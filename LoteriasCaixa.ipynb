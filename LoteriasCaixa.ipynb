{
  "nbformat": 4,
  "nbformat_minor": 0,
  "metadata": {
    "kernelspec": {
      "display_name": "Python 3",
      "language": "python",
      "name": "python3"
    },
    "language_info": {
      "codemirror_mode": {
        "name": "ipython",
        "version": 3
      },
      "file_extension": ".py",
      "mimetype": "text/x-python",
      "name": "python",
      "nbconvert_exporter": "python",
      "pygments_lexer": "ipython3",
      "version": "3.7.3"
    },
    "colab": {
      "name": "Copy of LoteriasCaixa.ipynb",
      "provenance": [],
      "include_colab_link": true
    }
  },
  "cells": [
    {
      "cell_type": "markdown",
      "metadata": {
        "id": "view-in-github",
        "colab_type": "text"
      },
      "source": [
        "<a href=\"https://colab.research.google.com/github/mfelippetti/Machine_Learning/blob/master/Copy_of_LoteriasCaixa.ipynb\" target=\"_parent\"><img src=\"https://colab.research.google.com/assets/colab-badge.svg\" alt=\"Open In Colab\"/></a>"
      ]
    },
    {
      "cell_type": "code",
      "metadata": {
        "id": "ABPkYLmuJITL",
        "colab_type": "code",
        "colab": {}
      },
      "source": [
        "import json\n",
        "import requests\n",
        "import bs4"
      ],
      "execution_count": 0,
      "outputs": []
    },
    {
      "cell_type": "code",
      "metadata": {
        "id": "MSVwJo0KJITm",
        "colab_type": "code",
        "colab": {}
      },
      "source": [
        "site = requests.get('http://loterias.caixa.gov.br/wps/portal/loterias/landing/federal/')\n",
        "#site = requests.get('http://loterias.caixa.gov.br/wps/portal/loterias/landing/quina/')"
      ],
      "execution_count": 0,
      "outputs": []
    },
    {
      "cell_type": "code",
      "metadata": {
        "id": "FC2HbQSEJIT0",
        "colab_type": "code",
        "outputId": "7b5f114e-8af4-4c33-f2cf-23a95aaeba31",
        "colab": {
          "base_uri": "https://localhost:8080/",
          "height": 35
        }
      },
      "source": [
        "site"
      ],
      "execution_count": 0,
      "outputs": [
        {
          "output_type": "execute_result",
          "data": {
            "text/plain": [
              "<Response [200]>"
            ]
          },
          "metadata": {
            "tags": []
          },
          "execution_count": 32
        }
      ]
    },
    {
      "cell_type": "code",
      "metadata": {
        "id": "BCkZqWB6JIUA",
        "colab_type": "code",
        "colab": {}
      },
      "source": [
        "print(site.text)"
      ],
      "execution_count": 0,
      "outputs": []
    },
    {
      "cell_type": "code",
      "metadata": {
        "id": "2IpX18V5JIUL",
        "colab_type": "code",
        "colab": {}
      },
      "source": [
        "soup = bs4.BeautifulSoup(site.text, 'html.parser')\n",
        "print(soup)"
      ],
      "execution_count": 0,
      "outputs": []
    },
    {
      "cell_type": "code",
      "metadata": {
        "id": "vN4ncPhKJIUY",
        "colab_type": "code",
        "colab": {}
      },
      "source": [
        "base = soup.find(\"base\")['href']\n",
        "urlBuscaResultado = soup.find(\"input\", {\"id\": \"urlBuscarResultado\", \"type\": \"hidden\"})['value']"
      ],
      "execution_count": 0,
      "outputs": []
    },
    {
      "cell_type": "code",
      "metadata": {
        "id": "8VxxVj8SJIUg",
        "colab_type": "code",
        "colab": {}
      },
      "source": [
        "resp = requests.get(base + urlBuscaResultado)\n",
        "resultado = json.loads(resp.text)\n"
      ],
      "execution_count": 0,
      "outputs": []
    },
    {
      "cell_type": "code",
      "metadata": {
        "scrolled": true,
        "id": "V77vPl8GJIUn",
        "colab_type": "code",
        "outputId": "b2f7169c-13d5-491d-c8ab-197efd6b2e5a",
        "colab": {
          "base_uri": "https://localhost:8080/",
          "height": 55
        }
      },
      "source": [
        "print(resultado)"
      ],
      "execution_count": 0,
      "outputs": [
        {
          "output_type": "stream",
          "text": [
            "{'concursoAnterior': '05434', 'premios': [{'proximoConcurso': '05436', 'concursoAnterior': '05434', 'forward': None, 'mensagens': [], 'extracao': '05435', 'planoSorteio': '638', 'dataExtracao': '26/10/2019', 'premio1': '18857', 'premio2': '97203', 'premio3': '24703', 'premio4': '50550', 'premio5': '74380', 'observacao': '', 'informacao': None, 'icLocalSorteio': '', 'noCidade': 'SAO PAULO', 'sgUf': 'SP', 'faixa': '001', 'valor': '500.000,00', 'series': None, 'tipoPlano': 'N', 'co_bilhete': None, 'qtde_bilhetes': '100000', 'error': False, 'bilhete': '018857', 'noMunicipioCD': 'CARANGOLA', 'noSgUfCD': 'MG', 'noFantasiaCD': 'CARANGOLA LOTERIAS'}, {'proximoConcurso': '05436', 'concursoAnterior': '05434', 'forward': None, 'mensagens': [], 'extracao': '05435', 'planoSorteio': '638', 'dataExtracao': '26/10/2019', 'premio1': '18857', 'premio2': '97203', 'premio3': '24703', 'premio4': '50550', 'premio5': '74380', 'observacao': '', 'informacao': None, 'icLocalSorteio': '', 'noCidade': 'SAO PAULO', 'sgUf': 'SP', 'faixa': '002', 'valor': '27.000,00', 'series': None, 'tipoPlano': 'N', 'co_bilhete': None, 'qtde_bilhetes': '100000', 'error': False, 'bilhete': '097203', 'noMunicipioCD': 'SANTO ANDRE', 'noSgUfCD': 'SP', 'noFantasiaCD': 'COMPUSELECT LOTS LTD'}, {'proximoConcurso': '05436', 'concursoAnterior': '05434', 'forward': None, 'mensagens': [], 'extracao': '05435', 'planoSorteio': '638', 'dataExtracao': '26/10/2019', 'premio1': '18857', 'premio2': '97203', 'premio3': '24703', 'premio4': '50550', 'premio5': '74380', 'observacao': '', 'informacao': None, 'icLocalSorteio': '', 'noCidade': 'SAO PAULO', 'sgUf': 'SP', 'faixa': '003', 'valor': '24.000,00', 'series': None, 'tipoPlano': 'N', 'co_bilhete': None, 'qtde_bilhetes': '100000', 'error': False, 'bilhete': '024703', 'noMunicipioCD': 'CURITIBA', 'noSgUfCD': 'PR', 'noFantasiaCD': 'MONACO LOTERIAS'}, {'proximoConcurso': '05436', 'concursoAnterior': '05434', 'forward': None, 'mensagens': [], 'extracao': '05435', 'planoSorteio': '638', 'dataExtracao': '26/10/2019', 'premio1': '18857', 'premio2': '97203', 'premio3': '24703', 'premio4': '50550', 'premio5': '74380', 'observacao': '', 'informacao': None, 'icLocalSorteio': '', 'noCidade': 'SAO PAULO', 'sgUf': 'SP', 'faixa': '004', 'valor': '19.000,00', 'series': None, 'tipoPlano': 'N', 'co_bilhete': None, 'qtde_bilhetes': '100000', 'error': False, 'bilhete': '050550', 'noMunicipioCD': 'GOIANIA', 'noSgUfCD': 'GO', 'noFantasiaCD': 'LOTERICA ESTACAO DA SORTE'}, {'proximoConcurso': '05436', 'concursoAnterior': '05434', 'forward': None, 'mensagens': [], 'extracao': '05435', 'planoSorteio': '638', 'dataExtracao': '26/10/2019', 'premio1': '18857', 'premio2': '97203', 'premio3': '24703', 'premio4': '50550', 'premio5': '74380', 'observacao': '', 'informacao': None, 'icLocalSorteio': '', 'noCidade': 'SAO PAULO', 'sgUf': 'SP', 'faixa': '005', 'valor': '18.329,00', 'series': None, 'tipoPlano': 'N', 'co_bilhete': None, 'qtde_bilhetes': '100000', 'error': False, 'bilhete': '074380', 'noMunicipioCD': 'RIO DE JANEIRO', 'noSgUfCD': 'RJ', 'noFantasiaCD': 'QUINA LOTERICA LTDA'}], 'cidade': 'SAO PAULO', 'observacao': '', 'proximoConcurso': '05436', 'data': '26/10/2019', 'concurso': '05435', 'ufSorteio': 'SP'}\n"
          ],
          "name": "stdout"
        }
      ]
    },
    {
      "cell_type": "code",
      "metadata": {
        "id": "2ZbcvjpPJIUw",
        "colab_type": "code",
        "outputId": "827d5732-e690-4c4b-ef6a-f634dd45acc3",
        "colab": {
          "base_uri": "https://localhost:8080/",
          "height": 172
        }
      },
      "source": [
        "#Resultado para QUINA\n",
        "#print(resultado['resultadoOrdenado'].split('-'))\n",
        "\n",
        "#Resultado para FEDERAL\n",
        "print(resultado['forward'])"
      ],
      "execution_count": 0,
      "outputs": [
        {
          "output_type": "error",
          "ename": "KeyError",
          "evalue": "ignored",
          "traceback": [
            "\u001b[0;31m---------------------------------------------------------------------------\u001b[0m",
            "\u001b[0;31mKeyError\u001b[0m                                  Traceback (most recent call last)",
            "\u001b[0;32m<ipython-input-53-89a402687e2a>\u001b[0m in \u001b[0;36m<module>\u001b[0;34m()\u001b[0m\n\u001b[0;32m----> 1\u001b[0;31m \u001b[0mprint\u001b[0m\u001b[0;34m(\u001b[0m\u001b[0mresultado\u001b[0m\u001b[0;34m[\u001b[0m\u001b[0;34m'forward'\u001b[0m\u001b[0;34m]\u001b[0m\u001b[0;34m)\u001b[0m\u001b[0;34m\u001b[0m\u001b[0;34m\u001b[0m\u001b[0m\n\u001b[0m",
            "\u001b[0;31mKeyError\u001b[0m: 'forward'"
          ]
        }
      ]
    },
    {
      "cell_type": "code",
      "metadata": {
        "id": "V34eaFvdJIU5",
        "colab_type": "code",
        "colab": {}
      },
      "source": [
        ""
      ],
      "execution_count": 0,
      "outputs": []
    },
    {
      "cell_type": "markdown",
      "metadata": {
        "id": "ELYskwt6QEBD",
        "colab_type": "text"
      },
      "source": [
        "**Resultado para FEDERAL:**\n",
        "---\n",
        "\n",
        "{'concursoAnterior': '05434', 'premios': [{'proximoConcurso': '05436', 'concursoAnterior': '05434', 'forward': None, 'mensagens': [], 'extracao': '05435', 'planoSorteio': '638', 'dataExtracao': '26/10/2019', 'premio1': '18857', 'premio2': '97203', 'premio3': '24703', 'premio4': '50550', 'premio5': '74380', 'observacao': '', 'informacao': None, 'icLocalSorteio': '', 'noCidade': 'SAO PAULO', 'sgUf': 'SP', 'faixa': '001', 'valor': '500.000,00', 'series': None, 'tipoPlano': 'N', 'co_bilhete': None, 'qtde_bilhetes': '100000', 'error': False, 'bilhete': '018857', 'noMunicipioCD': 'CARANGOLA', 'noSgUfCD': 'MG', 'noFantasiaCD': 'CARANGOLA LOTERIAS'}, {'proximoConcurso': '05436', 'concursoAnterior': '05434', 'forward': None, 'mensagens': [], 'extracao': '05435', 'planoSorteio': '638', 'dataExtracao': '26/10/2019', 'premio1': '18857', 'premio2': '97203', 'premio3': '24703', 'premio4': '50550', 'premio5': '74380', 'observacao': '', 'informacao': None, 'icLocalSorteio': '', 'noCidade': 'SAO PAULO', 'sgUf': 'SP', 'faixa': '002', 'valor': '27.000,00', 'series': None, 'tipoPlano': 'N', 'co_bilhete': None, 'qtde_bilhetes': '100000', 'error': False, 'bilhete': '097203', 'noMunicipioCD': 'SANTO ANDRE', 'noSgUfCD': 'SP', 'noFantasiaCD': 'COMPUSELECT LOTS LTD'}, {'proximoConcurso': '05436', 'concursoAnterior': '05434', 'forward': None, 'mensagens': [], 'extracao': '05435', 'planoSorteio': '638', 'dataExtracao': '26/10/2019', 'premio1': '18857', 'premio2': '97203', 'premio3': '24703', 'premio4': '50550', 'premio5': '74380', 'observacao': '', 'informacao': None, 'icLocalSorteio': '', 'noCidade': 'SAO PAULO', 'sgUf': 'SP', 'faixa': '003', 'valor': '24.000,00', 'series': None, 'tipoPlano': 'N', 'co_bilhete': None, 'qtde_bilhetes': '100000', 'error': False, 'bilhete': '024703', 'noMunicipioCD': 'CURITIBA', 'noSgUfCD': 'PR', 'noFantasiaCD': 'MONACO LOTERIAS'}, {'proximoConcurso': '05436', 'concursoAnterior': '05434', 'forward': None, 'mensagens': [], 'extracao': '05435', 'planoSorteio': '638', 'dataExtracao': '26/10/2019', 'premio1': '18857', 'premio2': '97203', 'premio3': '24703', 'premio4': '50550', 'premio5': '74380', 'observacao': '', 'informacao': None, 'icLocalSorteio': '', 'noCidade': 'SAO PAULO', 'sgUf': 'SP', 'faixa': '004', 'valor': '19.000,00', 'series': None, 'tipoPlano': 'N', 'co_bilhete': None, 'qtde_bilhetes': '100000', 'error': False, 'bilhete': '050550', 'noMunicipioCD': 'GOIANIA', 'noSgUfCD': 'GO', 'noFantasiaCD': 'LOTERICA ESTACAO DA SORTE'}, {'proximoConcurso': '05436', 'concursoAnterior': '05434', 'forward': None, 'mensagens': [], 'extracao': '05435', 'planoSorteio': '638', 'dataExtracao': '26/10/2019', 'premio1': '18857', 'premio2': '97203', 'premio3': '24703', 'premio4': '50550', 'premio5': '74380', 'observacao': '', 'informacao': None, 'icLocalSorteio': '', 'noCidade': 'SAO PAULO', 'sgUf': 'SP', 'faixa': '005', 'valor': '18.329,00', 'series': None, 'tipoPlano': 'N', 'co_bilhete': None, 'qtde_bilhetes': '100000', 'error': False, 'bilhete': '074380', 'noMunicipioCD': 'RIO DE JANEIRO', 'noSgUfCD': 'RJ', 'noFantasiaCD': 'QUINA LOTERICA LTDA'}], 'cidade': 'SAO PAULO', 'observacao': '', 'proximoConcurso': '05436', 'data': '26/10/2019', 'concurso': '05435', 'ufSorteio': 'SP'}\n",
        "\n",
        "\n",
        "\n",
        "**Resultado para QUINA**\n",
        "---\n",
        "{'proximoConcurso': '5107', 'concursoAnterior': '5106', 'forward': None, 'mensagens': [], 'concurso': 5107, 'data': 1572058800000, 'resultado': '04-58-60-17-31', 'ganhadores': 0, 'ganhadores_quadra': 55, 'ganhadores_terno': 4382, 'qt_ganhador_duque': 111279, 'valor': 0.0, 'valor_quadra': 6200.14, 'valor_terno': 117.02, 'vr_rateio_duque': 2.53, 'no_cidade': 'SÃO PAULO', 'sg_uf': 'SP', 'vrAcumulado': 628171.43, 'vrAcumuladoEspecial': 47625875.82, 'vrEstimado': 1300000.0, 'dtProximoConcurso': 1572231600000, 'vrArrecadado': 5914567.5, 'observacao': None, 'de_local_sorteio': 'Espaço Loterias Caixa', 'ic_concurso_especial': False, 'resultadoOrdenado': '04-17-31-58-60', 'duque': '0', 'error': False, 'rateioProcessamento': False, 'verificaAcumulado': False, 'sorteioAcumulado': True, 'localSorteio': 'no Espaço Loterias Caixa', 'ganhadoresPorUf': None, 'quinaSaoJoao': False, 'dataStr': '26/10/2019', 'dtProximoConcursoStr': '28/10/2019'}\n",
        "\n"
      ]
    }
  ]
}
