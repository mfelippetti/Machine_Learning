{
 "cells": [
  {
   "cell_type": "code",
   "execution_count": null,
   "metadata": {},
   "outputs": [],
   "source": []
  },
  {
   "cell_type": "code",
   "execution_count": 7,
   "metadata": {},
   "outputs": [
    {
     "name": "stdout",
     "output_type": "stream",
     "text": [
      "A estrutura for exige, inicialmente, a definição de uma variável\n",
      "['A', 'estrutura', 'for', 'exige,', 'inicialmente,', 'a', 'definição', 'de', 'uma', 'variável']\n",
      "estrutura\n",
      "A\n",
      "estrutura\n",
      "for\n",
      "exige,\n",
      "inicialmente,\n",
      "a\n",
      "definição\n",
      "de\n",
      "uma\n",
      "variável\n"
     ]
    }
   ],
   "source": [
    "#Teste de string e lista de string\n",
    "\n",
    "var_string = 'A estrutura for exige, inicialmente, a definição de uma variável'\n",
    "var_vetor = var_string.split()\n",
    "print(var_string)\n",
    "print(var_vetor)\n",
    "print(var_vetor[1])\n",
    "\n",
    "for n in var_vetor:\n",
    "    print(n)\n",
    "\n",
    "\n"
   ]
  }
 ],
 "metadata": {
  "kernelspec": {
   "display_name": "Python 3",
   "language": "python",
   "name": "python3"
  },
  "language_info": {
   "codemirror_mode": {
    "name": "ipython",
    "version": 3
   },
   "file_extension": ".py",
   "mimetype": "text/x-python",
   "name": "python",
   "nbconvert_exporter": "python",
   "pygments_lexer": "ipython3",
   "version": "3.7.4"
  }
 },
 "nbformat": 4,
 "nbformat_minor": 2
}
